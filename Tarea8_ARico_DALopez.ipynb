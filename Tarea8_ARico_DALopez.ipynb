{
 "cells": [
  {
   "cell_type": "markdown",
   "metadata": {},
   "source": [
    "<img style=\"float: left; margin: 30px 15px 15px 15px;\" src=\"https://pngimage.net/wp-content/uploads/2018/06/logo-iteso-png-5.png\" width=\"300\" height=\"500\" /> \n",
    "    \n",
    "    \n",
    "### <font color='navy'> Simulación de procesos financieros. \n",
    "\n",
    "**Nombres:** Alejandra Rico Rosales, Diego Alberto López Lazareno.\n",
    "\n",
    "**Fecha:** 22 de octubre del 2021.\n",
    "\n",
    "**Expediente:** 722100, 714643.\n",
    "    \n",
    "**Profesor:** Oscar David Jaramillo Zuluaga.\n",
    "    \n",
    "**Link Github:** [Link con el enlace del repositorio del creador del proyecto](https://github.com/alerrico/Tarea8_ARico_DALopez)\n",
    "\n",
    "# Tarea 8: Clase 14"
   ]
  },
  {
   "cell_type": "code",
   "execution_count": 1,
   "metadata": {},
   "outputs": [],
   "source": [
    "import numpy as np\n",
    "import scipy.stats as st\n",
    "import pandas as pd\n",
    "import matplotlib.pyplot as plt"
   ]
  },
  {
   "cell_type": "markdown",
   "metadata": {},
   "source": [
    "## Enunciado de tarea (Transcribirlo)"
   ]
  },
  {
   "cell_type": "markdown",
   "metadata": {},
   "source": [
    "<img src=\"tarea.jpg\">"
   ]
  },
  {
   "cell_type": "markdown",
   "metadata": {},
   "source": [
    "> Además use el método de estratificación donde se divide en B estratos, visto la clase pasada y compare el resultado con los métodos anteriores cuando se toman $2,4,6,10$ estratos respectivamente, concluya."
   ]
  },
  {
   "cell_type": "markdown",
   "metadata": {},
   "source": [
    "#### Código de solución `ESTUDIANTE 1: ALEJANDRA RICO`"
   ]
  },
  {
   "cell_type": "markdown",
   "metadata": {},
   "source": [
    "$$\\int_{-1}^{x}\\frac{3x^2}{2}dx=\\left(\\frac{3}{2}\\right)\\left(\\frac{x^3}{3}\\right)|_{-1}^x=\\frac{x^3}{2}+\\frac{1}{2}$$\n",
    "\n",
    "Igualamos a u:\n",
    "$$\\frac{x^3}{2}+\\frac{1}{2}=u$$\n",
    "\n",
    "Despejamos x:\n",
    "$$x=\\sqrt[3]{2u-1}$$"
   ]
  },
  {
   "cell_type": "code",
   "execution_count": 23,
   "metadata": {},
   "outputs": [
    {
     "name": "stdout",
     "output_type": "stream",
     "text": [
      "Montecarlo crudo:  0.020783088098140733\n"
     ]
    }
   ],
   "source": [
    "# Montecarlo crudo\n",
    "\n",
    "N = 1000\n",
    "\n",
    "f = lambda x: (3/2)*x**2 if -1<=x<=1 else 0\n",
    "h = lambda u: (2*u-1)**(1/3) if u > 0.5 else -(1-2*u)**(1/3)\n",
    "\n",
    "u1 = np.random.rand(N)\n",
    "fu1 = list(map(f,u1))\n",
    "m_montecarlo = np.mean(list(map(h, u1)))\n",
    "\n",
    "print('Montecarlo crudo: ', m_montecarlo)"
   ]
  },
  {
   "cell_type": "code",
   "execution_count": 24,
   "metadata": {},
   "outputs": [
    {
     "name": "stdout",
     "output_type": "stream",
     "text": [
      "Método estratificado:  0.19957728718642087\n"
     ]
    }
   ],
   "source": [
    "# Método estratificado \n",
    "r1 = np.random.uniform(0,0.6,3)\n",
    "r2 = np.random.uniform(0.6,0.9,3)\n",
    "r3 = np.random.uniform(0.9,1,4)\n",
    "r = [r1,r2,r3]\n",
    "w = [1/2,1,4]\n",
    "\n",
    "\n",
    "f_inv = lambda x: np.array(list(map(lambda i: h(i),x)))\n",
    "xi = list(map(f_inv,r))\n",
    "m = np.concatenate(list(map(lambda i,wi: i/wi,xi,w)))\n",
    "me = m.mean()\n",
    "\n",
    "print('Método estratificado: ', me)"
   ]
  },
  {
   "cell_type": "code",
   "execution_count": 25,
   "metadata": {},
   "outputs": [
    {
     "name": "stdout",
     "output_type": "stream",
     "text": [
      "Complementarios:  1.7763568394002505e-18\n"
     ]
    }
   ],
   "source": [
    "# Complementarios\n",
    "\n",
    "u2 = np.random.rand(int(N/2))\n",
    "u2_c = 1 - u2\n",
    "\n",
    "m_comp = np.mean(list(map(lambda u: h(u), np.concatenate([u2, u2_c]))))\n",
    "m_comp\n",
    "\n",
    "print('Complementarios: ', m_comp)"
   ]
  },
  {
   "cell_type": "code",
   "execution_count": 27,
   "metadata": {},
   "outputs": [
    {
     "name": "stdout",
     "output_type": "stream",
     "text": [
      "Con 2, 4, 6 y 10 estratos:  [0.0579630460498593, 0.004993531412614993, 0.0025720692712120443, 0.007466393735603638]\n"
     ]
    }
   ],
   "source": [
    "# Método de estratificación dividido en B estratos\n",
    "\n",
    "def estratificado(N: \"Numero de muestras\"):\n",
    "    U2 = np.random.rand(N)\n",
    "    i = np.arange(0,N)\n",
    "    return (U2+i)/N\n",
    "\n",
    "B = np.array([2, 4, 6, 10])\n",
    "fitt = [estratificado(bi) for bi in B]\n",
    "estrato = [[h(var) for var in x] for x in fitt]\n",
    "\n",
    "estratos = list([np.array(estrato[i]).mean() for i in range(4)])\n",
    "print('Con 2, 4, 6 y 10 estratos: ', estratos)"
   ]
  },
  {
   "cell_type": "markdown",
   "metadata": {},
   "source": [
    "#### Código de solución `ESTUDIANTE 2: DIEGO LOPEZ`"
   ]
  },
  {
   "cell_type": "code",
   "execution_count": null,
   "metadata": {},
   "outputs": [],
   "source": []
  }
 ],
 "metadata": {
  "kernelspec": {
   "display_name": "Python 3",
   "language": "python",
   "name": "python3"
  },
  "language_info": {
   "codemirror_mode": {
    "name": "ipython",
    "version": 3
   },
   "file_extension": ".py",
   "mimetype": "text/x-python",
   "name": "python",
   "nbconvert_exporter": "python",
   "pygments_lexer": "ipython3",
   "version": "3.8.3"
  }
 },
 "nbformat": 4,
 "nbformat_minor": 4
}
